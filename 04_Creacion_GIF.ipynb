{
 "cells": [
  {
   "cell_type": "code",
   "execution_count": 1,
   "metadata": {},
   "outputs": [
    {
     "name": "stdout",
     "output_type": "stream",
     "text": [
      "2.0.0\n"
     ]
    },
    {
     "data": {
      "text/plain": [
       "True"
      ]
     },
     "execution_count": 1,
     "metadata": {},
     "output_type": "execute_result"
    }
   ],
   "source": [
    "import matplotlib.pyplot as plt\n",
    "import tensorflow as tf\n",
    "import numpy as np\n",
    "import cv2\n",
    "import os \n",
    "from IPython.display import Image\n",
    "\n",
    "print(tf.__version__)\n",
    "tf.test.is_gpu_available(cuda_only=True, min_cuda_compute_capability=None)"
   ]
  },
  {
   "cell_type": "code",
   "execution_count": 22,
   "metadata": {},
   "outputs": [
    {
     "data": {
      "text/plain": [
       "'C:/Users/jeiss/Documents/Repositorio para JupyterLab - Jupyter Noteboock/Mineria de Datos/Proyecto/GeneratedFlowers/0_0.jpg'"
      ]
     },
     "execution_count": 22,
     "metadata": {},
     "output_type": "execute_result"
    }
   ],
   "source": [
    "PATH = 'C:/Users/jeiss/Documents/Repositorio para JupyterLab - Jupyter Noteboock/Mineria de Datos/Proyecto'\n",
    "INPATH = PATH + '/GeneratedFlowers'\n",
    "imgurls = os.listdir(INPATH)\n",
    "INPATH + '/'+  imgurls[0]"
   ]
  },
  {
   "cell_type": "markdown",
   "metadata": {},
   "source": [
    "# Creacion de un GIF Con todas las imagenes"
   ]
  },
  {
   "cell_type": "code",
   "execution_count": 13,
   "metadata": {},
   "outputs": [],
   "source": [
    "import imageio\n",
    "images = []\n",
    "for i in imgurls:\n",
    "    images.append(imageio.imread(INPATH + '/'+  i  ))\n",
    "imageio.mimsave(PATH + '/Movies/movie.gif', images)"
   ]
  },
  {
   "cell_type": "markdown",
   "metadata": {},
   "source": [
    "# Creacion de un GIF por cada Flor de las 50 a las cuales se lesrealizo seguimiento durante el entrenamiento"
   ]
  },
  {
   "cell_type": "code",
   "execution_count": 24,
   "metadata": {},
   "outputs": [],
   "source": [
    "for i in range(50):\n",
    "    images = []\n",
    "    for j in range(335):\n",
    "        images.append(imageio.imread(INPATH + '/'+ str(i) + '_' + str(j) + '.jpg' ))\n",
    "    imageio.mimsave(PATH + '/Movies/' + str(i) + '_movie.gif', images)    "
   ]
  }
 ],
 "metadata": {
  "kernelspec": {
   "display_name": "Python [conda env:.conda-rstudio] *",
   "language": "python",
   "name": "conda-env-.conda-rstudio-py"
  },
  "language_info": {
   "codemirror_mode": {
    "name": "ipython",
    "version": 3
   },
   "file_extension": ".py",
   "mimetype": "text/x-python",
   "name": "python",
   "nbconvert_exporter": "python",
   "pygments_lexer": "ipython3",
   "version": "3.7.1"
  }
 },
 "nbformat": 4,
 "nbformat_minor": 4
}
