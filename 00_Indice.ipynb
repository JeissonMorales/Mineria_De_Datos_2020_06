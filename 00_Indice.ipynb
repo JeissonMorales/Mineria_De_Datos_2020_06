{
 "cells": [
  {
   "cell_type": "markdown",
   "metadata": {},
   "source": [
    "# Elaborado por: \n",
    "## Jeisson Andres Morales Hernandez\n",
    "### Pregrado en Estadistica \n",
    "### Universidad Nacional de Colombia\n",
    "### Correo: jamoralesh@unal.edu.co\n",
    "### Tel: 320 878 8629"
   ]
  },
  {
   "cell_type": "markdown",
   "metadata": {},
   "source": [
    "# Indice\n",
    "\n",
    "1. Descripcion del Proyecto - (Problema y Objetivo)\n",
    "2. Generacion de datos - (Obtencion de imagenes inputs a partir de imagenes outputs).\n",
    "3. Desarrollo del modelo, (Documentacion y Scripts)\n",
    "4. Elaces a Articulos\n",
    "6. Anexos (Noteboock con scripts unicamente)\n"
   ]
  }
 ],
 "metadata": {
  "kernelspec": {
   "display_name": "Python 3",
   "language": "python",
   "name": "python3"
  },
  "language_info": {
   "codemirror_mode": {
    "name": "ipython",
    "version": 3
   },
   "file_extension": ".py",
   "mimetype": "text/x-python",
   "name": "python",
   "nbconvert_exporter": "python",
   "pygments_lexer": "ipython3",
   "version": "3.7.1"
  }
 },
 "nbformat": 4,
 "nbformat_minor": 4
}
