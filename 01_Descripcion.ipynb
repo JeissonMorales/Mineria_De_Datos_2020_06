{
 "cells": [
  {
   "cell_type": "markdown",
   "metadata": {},
   "source": [
    "# Descripcion:"
   ]
  },
  {
   "cell_type": "markdown",
   "metadata": {},
   "source": [
    "### Este proyecto busca implementar una arquitectura de deep learning que permita tomar una imagen desenfocada como input y generar a partir de esta, una imagen realista, haciendo uso de la redes neuronales generativas condicionales advesarias y del trabajo ya existente  [pix2pix](https://phillipi.github.io/pix2pix/). En principio utilizaremos un dataset de flores, donde no se ha utilizado antes esta arquitectura. Para ello utilizaremos TensorFlow en Pyhton.\n",
    "\n",
    "### Adicinalmente este proyecto es desarrollado durante el primer semestre del año 2020, como trabajo final del curso de Mineria de Datos en la Universidad Nacional de Colombia.\n"
   ]
  },
  {
   "cell_type": "markdown",
   "metadata": {},
   "source": [
    "# Referencias:\n",
    "### Enlace al articulo completamente gratis desde la pagina de Cornell University: [Articulo Pix2Pix](https://arxiv.org/abs/1611.07004)\n",
    "### Repositorio GitHub del Articulo: [GitHub del Articulo](https://github.com/phillipi/pix2pix)\n",
    "### Demo Interactiva del articulo: [Demo](https://affinelayer.com/pixsrv/)\n",
    "### Enlace GitHub del contenido del curso: [Mineria de datos - UN](https://github.com/AprendizajeProfundo/Ciencia-de-Datos)"
   ]
  },
  {
   "cell_type": "markdown",
   "metadata": {},
   "source": [
    "# Hardware Utlizado\n",
    "## Equipo Personal: \n",
    "#### Procesador: Intel(R) Core(TM) i5 8300H CPU @ 2.3GHz 2.3GHz\n",
    "#### Ram: 20 Gb\n",
    "#### Optane: 20 Gb\n",
    "#### Vram: 4Gb\n",
    "####  Tarjeta de video: Nvidia  GeForce GTX 1050 @ compute capability: 6.1\n",
    "## Google Colab\n",
    "#### Sobre GPU's Tesla P4 with compute capability: 6.1\n",
    "#### Ram: 13 Gb"
   ]
  }
 ],
 "metadata": {
  "kernelspec": {
   "display_name": "Python [conda env:.conda-rstudio] *",
   "language": "python",
   "name": "conda-env-.conda-rstudio-py"
  },
  "language_info": {
   "codemirror_mode": {
    "name": "ipython",
    "version": 3
   },
   "file_extension": ".py",
   "mimetype": "text/x-python",
   "name": "python",
   "nbconvert_exporter": "python",
   "pygments_lexer": "ipython3",
   "version": "3.7.1"
  }
 },
 "nbformat": 4,
 "nbformat_minor": 4
}
